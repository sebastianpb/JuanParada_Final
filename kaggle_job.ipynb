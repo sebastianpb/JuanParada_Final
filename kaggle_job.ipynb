{
 "cells": [
  {
   "cell_type": "code",
   "execution_count": 7,
   "metadata": {},
   "outputs": [],
   "source": [
    "import pandas as pd\n",
    "import numpy as np"
   ]
  },
  {
   "cell_type": "code",
   "execution_count": 8,
   "metadata": {},
   "outputs": [
    {
     "name": "stdout",
     "output_type": "stream",
     "text": [
      "Index(['Time from Start to Finish (seconds)', 'Q1', 'Q1_OTHER_TEXT', 'Q2',\n",
      "       'Q3', 'Q4', 'Q5', 'Q6', 'Q6_OTHER_TEXT', 'Q7',\n",
      "       ...\n",
      "       'Q49_OTHER_TEXT', 'Q50_Part_1', 'Q50_Part_2', 'Q50_Part_3',\n",
      "       'Q50_Part_4', 'Q50_Part_5', 'Q50_Part_6', 'Q50_Part_7', 'Q50_Part_8',\n",
      "       'Q50_OTHER_TEXT;;;;'],\n",
      "      dtype='object', length=395)\n",
      "(109, 395)\n"
     ]
    }
   ],
   "source": [
    "# Read data\n",
    "data=pd.read_csv(\"multipleChoiceResponses.csv\",skiprows=[1],low_memory=False)\n",
    "print(data.keys())\n",
    "print(data.shape)"
   ]
  },
  {
   "cell_type": "code",
   "execution_count": 10,
   "metadata": {},
   "outputs": [
    {
     "name": "stdout",
     "output_type": "stream",
     "text": [
      "[0. 0. 0. 0. 0. 0. 0. 0. 0. 1. 0. 0. 0. 0. 0. 1. 0. 0. 0. 0. 0. 0. 0. 0.\n",
      " 0. 0. 0. 0. 1. 0. 0. 0. 0. 0. 0. 1. 0. 0. 0. 0. 0. 0. 0. 0. 0. 0. 0. 0.\n",
      " 0. 0. 0. 0. 0. 0. 0. 0. 0. 0. 1. 0. 0. 0. 0. 0. 0. 0. 0. 0. 0. 0. 0. 0.\n",
      " 0. 0. 0. 0. 0. 0. 0. 0. 0. 1. 0. 0. 1. 0. 0. 0. 0. 0. 0. 0. 0. 0. 0. 0.\n",
      " 0. 0. 0. 0. 0. 0. 0. 0. 0. 0. 0. 0. 0.]\n"
     ]
    }
   ],
   "source": [
    "# prediction target: integrated development environments (IDE's) used at work or school in the last 5 years? \n",
    "target=['Q13_Part_1']\n",
    "ii=np.array(data[target].isnull()).ravel()\n",
    "used=np.ones(len(data))\n",
    "used[ii]=0\n",
    "print(used)"
   ]
  },
  {
   "cell_type": "code",
   "execution_count": 11,
   "metadata": {},
   "outputs": [
    {
     "name": "stdout",
     "output_type": "stream",
     "text": [
      "     Q13_Part_1\n",
      "0           0.0\n",
      "1           0.0\n",
      "2           0.0\n",
      "3           0.0\n",
      "4           0.0\n",
      "5           0.0\n",
      "6           0.0\n",
      "7           0.0\n",
      "8           0.0\n",
      "9           1.0\n",
      "10          0.0\n",
      "11          0.0\n",
      "12          0.0\n",
      "13          0.0\n",
      "14          0.0\n",
      "15          1.0\n",
      "16          0.0\n",
      "17          0.0\n",
      "18          0.0\n",
      "19          0.0\n",
      "20          0.0\n",
      "21          0.0\n",
      "22          0.0\n",
      "23          0.0\n",
      "24          0.0\n",
      "25          0.0\n",
      "26          0.0\n",
      "27          0.0\n",
      "28          1.0\n",
      "29          0.0\n",
      "..          ...\n",
      "79          0.0\n",
      "80          0.0\n",
      "81          1.0\n",
      "82          0.0\n",
      "83          0.0\n",
      "84          1.0\n",
      "85          0.0\n",
      "86          0.0\n",
      "87          0.0\n",
      "88          0.0\n",
      "89          0.0\n",
      "90          0.0\n",
      "91          0.0\n",
      "92          0.0\n",
      "93          0.0\n",
      "94          0.0\n",
      "95          0.0\n",
      "96          0.0\n",
      "97          0.0\n",
      "98          0.0\n",
      "99          0.0\n",
      "100         0.0\n",
      "101         0.0\n",
      "102         0.0\n",
      "103         0.0\n",
      "104         0.0\n",
      "105         0.0\n",
      "106         0.0\n",
      "107         0.0\n",
      "108         0.0\n",
      "\n",
      "[109 rows x 1 columns]\n"
     ]
    }
   ],
   "source": [
    "# Change text data to binary data with integers\n",
    "data[target]=used\n",
    "print(data[target])"
   ]
  },
  {
   "cell_type": "code",
   "execution_count": 12,
   "metadata": {},
   "outputs": [
    {
     "ename": "TypeError",
     "evalue": "'<' not supported between instances of 'str' and 'float'",
     "output_type": "error",
     "traceback": [
      "\u001b[0;31m---------------------------------------------------------------------------\u001b[0m",
      "\u001b[0;31mTypeError\u001b[0m                                 Traceback (most recent call last)",
      "\u001b[0;32m<ipython-input-12-d7f5fb7bea4b>\u001b[0m in \u001b[0;36m<module>\u001b[0;34m()\u001b[0m\n\u001b[1;32m     13\u001b[0m     \u001b[0;32mreturn\u001b[0m \u001b[0mnumeric\u001b[0m\u001b[0;34m,\u001b[0m \u001b[0mdic\u001b[0m\u001b[0;34m\u001b[0m\u001b[0m\n\u001b[1;32m     14\u001b[0m \u001b[0mage\u001b[0m\u001b[0;34m=\u001b[0m\u001b[0;34m'Q2'\u001b[0m\u001b[0;34m\u001b[0m\u001b[0m\n\u001b[0;32m---> 15\u001b[0;31m \u001b[0mdata_ages\u001b[0m\u001b[0;34m,\u001b[0m \u001b[0mdic_ages\u001b[0m\u001b[0;34m=\u001b[0m\u001b[0mstring2numeric\u001b[0m\u001b[0;34m(\u001b[0m\u001b[0mdata\u001b[0m\u001b[0;34m,\u001b[0m\u001b[0mage\u001b[0m\u001b[0;34m)\u001b[0m\u001b[0;34m\u001b[0m\u001b[0m\n\u001b[0m\u001b[1;32m     16\u001b[0m \u001b[0mprint\u001b[0m\u001b[0;34m(\u001b[0m\u001b[0mdata_ages\u001b[0m\u001b[0;34m)\u001b[0m\u001b[0;34m\u001b[0m\u001b[0m\n\u001b[1;32m     17\u001b[0m \u001b[0mprint\u001b[0m\u001b[0;34m(\u001b[0m\u001b[0mdic_ages\u001b[0m\u001b[0;34m)\u001b[0m\u001b[0;34m\u001b[0m\u001b[0m\n",
      "\u001b[0;32m<ipython-input-12-d7f5fb7bea4b>\u001b[0m in \u001b[0;36mstring2numeric\u001b[0;34m(data, key)\u001b[0m\n\u001b[1;32m      5\u001b[0m \u001b[0;32mdef\u001b[0m \u001b[0mstring2numeric\u001b[0m\u001b[0;34m(\u001b[0m\u001b[0mdata\u001b[0m\u001b[0;34m,\u001b[0m\u001b[0mkey\u001b[0m\u001b[0;34m)\u001b[0m\u001b[0;34m:\u001b[0m\u001b[0;34m\u001b[0m\u001b[0m\n\u001b[1;32m      6\u001b[0m     \u001b[0mdic\u001b[0m\u001b[0;34m=\u001b[0m\u001b[0;34m{\u001b[0m\u001b[0;34m}\u001b[0m\u001b[0;34m\u001b[0m\u001b[0m\n\u001b[0;32m----> 7\u001b[0;31m     \u001b[0mvalues\u001b[0m\u001b[0;34m=\u001b[0m\u001b[0msorted\u001b[0m\u001b[0;34m(\u001b[0m\u001b[0mset\u001b[0m\u001b[0;34m(\u001b[0m\u001b[0mdata\u001b[0m\u001b[0;34m[\u001b[0m\u001b[0mkey\u001b[0m\u001b[0;34m]\u001b[0m\u001b[0;34m)\u001b[0m\u001b[0;34m)\u001b[0m\u001b[0;34m\u001b[0m\u001b[0m\n\u001b[0m\u001b[1;32m      8\u001b[0m     \u001b[0mcont\u001b[0m\u001b[0;34m=\u001b[0m\u001b[0;36m0\u001b[0m\u001b[0;34m\u001b[0m\u001b[0m\n\u001b[1;32m      9\u001b[0m     \u001b[0;32mfor\u001b[0m \u001b[0mvalue\u001b[0m \u001b[0;32min\u001b[0m \u001b[0mvalues\u001b[0m\u001b[0;34m:\u001b[0m\u001b[0;34m\u001b[0m\u001b[0m\n",
      "\u001b[0;31mTypeError\u001b[0m: '<' not supported between instances of 'str' and 'float'"
     ]
    }
   ],
   "source": [
    "'''\n",
    "Change \"key\" data column from string data to numeric data\n",
    "Returns the numeric data with the dictionary that has the meaning of each number.\n",
    "'''\n",
    "def string2numeric(data,key):\n",
    "    dic={}\n",
    "    values=sorted(set(data[key]))\n",
    "    cont=0\n",
    "    for value in values:\n",
    "        dic[value]=cont\n",
    "        cont+=1;\n",
    "    numeric=[dic[item] for item in data[key]]\n",
    "    return numeric, dic\n",
    "age='Q2'\n",
    "data_ages, dic_ages=string2numeric(data,age)\n",
    "print(data_ages)\n",
    "print(dic_ages)"
   ]
  },
  {
   "cell_type": "code",
   "execution_count": null,
   "metadata": {},
   "outputs": [],
   "source": [
    "### Read data\n",
    "data=pd.read_csv(\"multipleChoiceResponses.csv\",skiprows=[1],low_memory=False)\n",
    "print(data.keys())\n",
    "print(data.shape)\n",
    "\n",
    "target='Q3'\n",
    "print(data[target])\n",
    "data_target, dic_target=string2numeric(data,target)\n",
    "\n",
    "print(data_target)\n",
    "print(dic_target)"
   ]
  }
 ],
 "metadata": {
  "kernelspec": {
   "display_name": "Python 3",
   "language": "python",
   "name": "python3"
  },
  "language_info": {
   "codemirror_mode": {
    "name": "ipython",
    "version": 3
   },
   "file_extension": ".py",
   "mimetype": "text/x-python",
   "name": "python",
   "nbconvert_exporter": "python",
   "pygments_lexer": "ipython3",
   "version": "3.6.6"
  }
 },
 "nbformat": 4,
 "nbformat_minor": 2
}
