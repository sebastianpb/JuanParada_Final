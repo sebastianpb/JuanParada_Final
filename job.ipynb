{
 "cells": [
  {
   "cell_type": "markdown",
   "metadata": {},
   "source": [
    "# Can your yearly compensation be predicted?"
   ]
  },
  {
   "cell_type": "markdown",
   "metadata": {},
   "source": [
    "# Content\n",
    "* [Introduction](#intro)\n",
    "* [Reorganizing data](#sort)\n",
    "* [Finding best predictors](#best)\n",
    "* [Determining relation between predictors and yearly compensation](#mach)\n",
    "* [Conclusions](#concl)"
   ]
  },
  {
   "cell_type": "markdown",
   "metadata": {},
   "source": [
    "<a id='intro'></a>\n",
    "# Introduction"
   ]
  },
  {
   "cell_type": "markdown",
   "metadata": {},
   "source": [
    "It is commonly believed that a person's salary will improve depending on different factors. For example, it is said that a higher degree of formal education will positively impact your income. Likewise, people affirm that your salary will grow if you have more years of work experience. \n",
    "\n",
    "Kaggle 2018 dataset contains a lot of information collected from data scientists around the world. Among all the data, there is information related with current yearly compensation, years of experience, highest level of formal education attained and age. Therefore, this dataset can give insights into the relation that exists between people salary and other information. \n",
    "\n",
    "The goal of this job is to find a relation between data scientists yearly compensation and information such as age, years of experience and the highest level of formal education. To achieve this goal, the kaggle dataset is reorganized to get numerical predictors first. Then, data scientists are divided according to their salary in two groups: those with more and those with less salary than a provided number. This is done in order to get a classification problem with two possible classes for the target variable (yearly compensation). After that, variables that best predict the salary are found with ROC and precision-recall figures. Finally, machine learning methods, including logistic regression, are implemented to find a relation between these variables and yearly compensation."
   ]
  },
  {
   "cell_type": "markdown",
   "metadata": {},
   "source": [
    "<a id='sort'></a>\n",
    "# Reorganizing data"
   ]
  },
  {
   "cell_type": "code",
   "execution_count": 1,
   "metadata": {},
   "outputs": [],
   "source": [
    "# Importing neccesary packages\n",
    "\n",
    "import numpy as np\n",
    "import pandas as pd\n",
    "import matplotlib.pyplot as plt\n",
    "import scipy.integrate\n",
    "import itertools\n",
    "import sklearn.model_selection\n",
    "import sklearn.linear_model\n",
    "%matplotlib inline"
   ]
  },
  {
   "cell_type": "code",
   "execution_count": 2,
   "metadata": {},
   "outputs": [],
   "source": [
    "# Read data\n",
    "data=pd.read_csv(\"multipleChoiceResponses.csv\",skiprows=[1],low_memory=False)\n",
    "\n",
    "# Predictors and target\n",
    "predictors=['Q2','Q4','Q8']\n",
    "target='Q9'\n",
    "\n",
    "n_data=data[[target]+predictors].dropna()"
   ]
  },
  {
   "cell_type": "code",
   "execution_count": 3,
   "metadata": {},
   "outputs": [],
   "source": [
    "# Adjust age, taking lower age in age range as parameter\n",
    "age='Q2'\n",
    "orig_age=np.array(n_data[age])\n",
    "n_ages=np.zeros(len(orig_age))\n",
    "\n",
    "for i in range(len(orig_age)):\n",
    "    if \"-\" in orig_age[i]:\n",
    "        str_age=orig_age[i].split(\"-\")[0]\n",
    "    else:\n",
    "        str_age=orig_age[i].replace(\"+\",\"\")\n",
    "    n_ages[i]=int(str_age)\n",
    "    \n",
    "n_data[age]=n_ages"
   ]
  },
  {
   "cell_type": "code",
   "execution_count": 4,
   "metadata": {},
   "outputs": [],
   "source": [
    "# Adjust experience years, taking lower experience years in years range as parameter\n",
    "years='Q8'\n",
    "orig_years=np.array(n_data[years])\n",
    "n_years=np.zeros(len(orig_years))\n",
    "\n",
    "for i in range(len(orig_years)):\n",
    "    if \"-\" in orig_years[i]:\n",
    "        str_years=orig_years[i].split(\"-\")[0]\n",
    "    else:\n",
    "        str_years=orig_years[i].replace(\"+\",\"\")\n",
    "    n_years[i]=int(str_years)\n",
    "    \n",
    "n_data[years]=n_years"
   ]
  },
  {
   "cell_type": "code",
   "execution_count": 5,
   "metadata": {},
   "outputs": [],
   "source": [
    "# Adjust salary to binary \n",
    "orig_salary=n_data[target]\n",
    "\n",
    "strings=(sorted(set(n_data[target])))\n",
    "ii=np.array(n_data['Q9']==strings[len(strings)-1])\n",
    "subset=np.array(n_data[[target]+predictors])[~ii,:]\n",
    "\n",
    "for i in range(subset.shape[0]):\n",
    "    if \"-\" in subset[i,0]:\n",
    "        max_salary=subset[i,0].split(\"-\")[1]\n",
    "    else:\n",
    "        max_salary=subset[i,0].replace(\"+\",\"\")\n",
    "    \n",
    "    max_salary=max_salary.replace(\",\",\"\")\n",
    "    \n",
    "    subset[i,0]=int(max_salary)\n",
    "    \n",
    "\n",
    "# Create binary array. 1 for people with salary > cut_salary\n",
    "q9_binary=np.zeros(subset.shape[0])\n",
    "cut_salary=150000\n",
    "q9_binary[subset[:,0]>cut_salary]=1\n",
    "\n",
    "subset[:,0]=q9_binary"
   ]
  },
  {
   "cell_type": "code",
   "execution_count": 6,
   "metadata": {},
   "outputs": [],
   "source": [
    "# Ajust degree to numerical data\n",
    "def string2numeric(data):\n",
    "    dic={}\n",
    "    values=sorted(set(data))\n",
    "    cont=0\n",
    "    for value in values:\n",
    "        dic[value]=cont\n",
    "        cont+=1;\n",
    "    numeric=[dic[item] for item in data]\n",
    "    return numeric, dic\n",
    "\n",
    "n_deg,n_deg_dic=string2numeric(subset[:,2])\n",
    "subset[:,2]=n_deg"
   ]
  },
  {
   "cell_type": "markdown",
   "metadata": {},
   "source": [
    "<a id='best'></a>\n",
    "# Finding best predictors"
   ]
  },
  {
   "cell_type": "code",
   "execution_count": 15,
   "metadata": {},
   "outputs": [],
   "source": [
    "# Find the most important predictors according to ROC and Precision-recall areas from logistic regression\n",
    "\n",
    "'''\n",
    "Function to find areas of ROC and precision-recall figures\n",
    "'''\n",
    "def roc_pr_areas(data_predictors,data_target, method):\n",
    "    # Split in train and test\n",
    "    X_train, X_test, Y_train, Y_test = sklearn.model_selection.train_test_split(data_predictors,data_target, test_size=0.4)\n",
    "    \n",
    "    # \n",
    "    method.fit(X_train,Y_train)\n",
    "    y_predict=method.predict_proba(X_test)[:,1]\n",
    "    \n",
    "    conf_matrix=np.zeros((2,2))\n",
    "    \n",
    "    threshold=np.linspace(0.1,0.8,100)\n",
    "    pts_roc=np.zeros((len(threshold),2))\n",
    "    pts_pr=np.zeros((len(threshold),2))\n",
    "    \n",
    "    for i in range(len(threshold)):\n",
    "    \n",
    "        for j in range(len(y_predict)):\n",
    "            \n",
    "            if y_predict[j]>threshold[i]:\n",
    "                if Y_test[j]==1:\n",
    "                    conf_matrix[0,0]+=1\n",
    "                else:\n",
    "                    # False positive\n",
    "                    conf_matrix[0,1]+=1\n",
    "            else:\n",
    "                if Y_test[j]==0:\n",
    "                    conf_matrix[1,1]+=1\n",
    "                else: \n",
    "                    # False negative\n",
    "                    conf_matrix[1,0]+=1\n",
    "        \n",
    "        tp=conf_matrix[0,0]\n",
    "        fp=conf_matrix[0,1]\n",
    "        tn=conf_matrix[1,1]\n",
    "        fn=conf_matrix[1,0]\n",
    "        # pts_roc= false positive rate, true positive rate = fp/(fp+tn), tp/(tp+fn)\n",
    "        pts_roc[i,:]=fp/(fp+tn), tp/(tp+fn)\n",
    "        \n",
    "        # pts_pr= recall, precision = tp/tp+fn, tp/tp+fp\n",
    "        pts_pr[i,:]=tp/(tp+fn), tp/(tp+fp)\n",
    "    \n",
    "    # compute the area under precision recall curve\n",
    "    ii = np.argsort(pts_roc[:,0])\n",
    "    iii=ii[0:10]\n",
    "    roc_area=scipy.integrate.trapz(pts_roc[ii,1],pts_roc[ii,0])\n",
    "    \n",
    "    # compute the area under precision recall curve\n",
    "    ii = np.argsort(pts_pr[0,:])\n",
    "    pr_area=scipy.integrate.trapz(pts_pr[ii,1],pts_pr[ii,0])  \n",
    "    \n",
    "    return roc_area, pr_area\n",
    "    \n",
    "    \n",
    "    \n",
    "'''\n",
    "Function to find variables that best predict the target\n",
    "'''\n",
    "def best_predictors(data_predictors,data_target, method, predictor_names):\n",
    "    n_predictors=len(predictor_names)\n",
    "    highest_roc_area=0\n",
    "    highest_pr_area=0\n",
    "    best_predictors=np.array([''])\n",
    "    for i in range(n_predictors):\n",
    "        combinations = itertools.combinations(np.arange(0,n_predictors), i+1)\n",
    "        for comb in combinations:\n",
    "            roc_area, pr_area= roc_pr_areas(data_predictors,data_target, method)\n",
    "            #print('roc_area=', roc_area, 'for combination', predictor_names[list(comb)],  'and pr_area=', pr_area)\n",
    "            if roc_area>highest_roc_area and pr_area>highest_pr_area:\n",
    "                highest_roc_area=roc_area\n",
    "                highest_pr_area=pr_area\n",
    "                best_predictors=predictor_names[list(comb)]\n",
    "                print(\"New predictors=\",best_predictors)\n",
    "    return best_predictors"
   ]
  },
  {
   "cell_type": "code",
   "execution_count": 19,
   "metadata": {},
   "outputs": [
    {
     "name": "stdout",
     "output_type": "stream",
     "text": [
      "New predictors= ['Q2']\n",
      "New predictors= ['Q4']\n",
      "New predictors= ['Q8']\n",
      "New predictors= ['Q2' 'Q4']\n",
      "Best predictors: ['Q2' 'Q4']\n"
     ]
    }
   ],
   "source": [
    "data_predictors=subset[:,1:]\n",
    "data_target=np.array(subset[:,0], dtype=int)\n",
    "f = sklearn.linear_model.LogisticRegression(solver='lbfgs')\n",
    "predictors=np.array(['Q2','Q4','Q8'])\n",
    "\n",
    "n_predictors=best_predictors(data_predictors,data_target,f, predictors)\n",
    "print('Best predictors:',n_predictors)"
   ]
  },
  {
   "cell_type": "markdown",
   "metadata": {},
   "source": [
    "<a id='mach'></a>\n",
    "# Determining relation between predictors and yearly compensation"
   ]
  },
  {
   "cell_type": "code",
   "execution_count": 20,
   "metadata": {},
   "outputs": [],
   "source": [
    "# Get predictor columns as dictionary and get best predictors from subset data\n",
    "predictors_cols_dic={}\n",
    "for i in range(len(predictors)):\n",
    "    predictors_cols_dic[predictors[i]]=i\n",
    "predictors_subset=subset[:,1:]\n",
    "target_subset=np.array(subset[:,0],dtype=int)\n",
    "\n",
    "# Get best predictors subset\n",
    "ii=[predictors_cols_dic[name] for name in n_predictors]\n",
    "best_subset=predictors_subset[:,ii]"
   ]
  },
  {
   "cell_type": "code",
   "execution_count": 21,
   "metadata": {},
   "outputs": [
    {
     "name": "stdout",
     "output_type": "stream",
     "text": [
      "Coefficients:  [[ 0.08429333 -0.03071553]]\n"
     ]
    }
   ],
   "source": [
    "# Find relation between best predictor and target\n",
    "nf = sklearn.linear_model.LogisticRegression(solver='lbfgs')\n",
    "nf.fit(best_subset,target_subset)\n",
    "print(\"Coefficients: \",nf.coef_)"
   ]
  },
  {
   "cell_type": "code",
   "execution_count": 22,
   "metadata": {},
   "outputs": [
    {
     "data": {
      "text/plain": [
       "<matplotlib.legend.Legend at 0x7fc8ac2a45c0>"
      ]
     },
     "execution_count": 22,
     "metadata": {},
     "output_type": "execute_result"
    },
    {
     "data": {
      "image/png": "[encoded data removed]",
      "text/plain": [
       "<Figure size 432x288 with 1 Axes>"
      ]
     },
     "metadata": {
      "needs_background": "light"
     },
     "output_type": "display_data"
    }
   ],
   "source": [
    "for i in range(nf.coef_.shape[1]):\n",
    "    y=nf.intercept_+nf.coef_[:,i]\n",
    "    plt.plot([0,1],[nf.intercept_,y],label=n_predictors[i])\n",
    "plt.ylabel('Yearly compensation')\n",
    "plt.legend()"
   ]
  },
  {
   "cell_type": "markdown",
   "metadata": {},
   "source": [
    "<a id='concl'></a>\n",
    "# Conclusions\n"
   ]
  },
  {
   "cell_type": "markdown",
   "metadata": {},
   "source": [
    "After running multiple times the code, the set of best predictors can change, but always the same relations are found: yearly compensation grows with an increase in age and years of experience. On the other hand, yearly compensation decreases slowly with increments in the values for the highest degree of formal education, defined within the dictionary. This dictionary is as follows:"
   ]
  },
  {
   "cell_type": "code",
   "execution_count": 24,
   "metadata": {},
   "outputs": [
    {
     "name": "stdout",
     "output_type": "stream",
     "text": [
      "{'Bachelor’s degree': 0, 'Doctoral degree': 1, 'I prefer not to answer': 2, 'Master’s degree': 3, 'No formal education past high school': 4, 'Professional degree': 5, 'Some college/university study without earning a bachelor’s degree': 6}\n"
     ]
    }
   ],
   "source": [
    "print(n_deg_dic)"
   ]
  },
  {
   "cell_type": "markdown",
   "metadata": {},
   "source": [
    "Based on this, the result is expected since greater values in the dictionary corresponds to lower levels of formal education. "
   ]
  },
  {
   "cell_type": "code",
   "execution_count": null,
   "metadata": {},
   "outputs": [],
   "source": []
  }
 ],
 "metadata": {
  "kernelspec": {
   "display_name": "Python 3",
   "language": "python",
   "name": "python3"
  },
  "language_info": {
   "codemirror_mode": {
    "name": "ipython",
    "version": 3
   },
   "file_extension": ".py",
   "mimetype": "text/x-python",
   "name": "python",
   "nbconvert_exporter": "python",
   "pygments_lexer": "ipython3",
   "version": "3.6.6"
  }
 },
 "nbformat": 4,
 "nbformat_minor": 2
}
